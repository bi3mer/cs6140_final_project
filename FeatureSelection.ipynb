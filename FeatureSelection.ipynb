{
 "cells": [
  {
   "cell_type": "code",
   "execution_count": 1,
   "metadata": {},
   "outputs": [],
   "source": [
    "from sklearn.metrics import r2_score, mean_squared_error, mean_absolute_error\n",
    "from sklearn.linear_model import LinearRegression\n",
    "from tqdm.notebook import tqdm\n",
    "import pandas as pd\n",
    "import itertools\n",
    "import math\n",
    "import os"
   ]
  },
  {
   "cell_type": "code",
   "execution_count": 2,
   "metadata": {},
   "outputs": [],
   "source": [
    "train_x = pd.read_csv(os.path.join('data', 'train_x_sep.csv'))\n",
    "train_y = pd.read_csv(os.path.join('data', 'train_y.csv'))\n",
    "\n",
    "test_x = pd.read_csv(os.path.join('data', 'test_x_sep.csv'))\n",
    "test_y = pd.read_csv(os.path.join('data', 'test_y.csv'))"
   ]
  },
  {
   "cell_type": "code",
   "execution_count": 3,
   "metadata": {},
   "outputs": [],
   "source": [
    "features = ['img', 'category', 'publish_day', 'description', 'title', 'tags']\n",
    "associated_column_names = {}\n",
    "for column_name in train_x.columns:\n",
    "    for feature_name in features:\n",
    "        if feature_name in column_name:\n",
    "            if feature_name not in associated_column_names:\n",
    "                associated_column_names[feature_name] = [column_name]\n",
    "            else:\n",
    "                associated_column_names[feature_name].append(column_name)\n",
    "            break"
   ]
  },
  {
   "cell_type": "code",
   "execution_count": 4,
   "metadata": {},
   "outputs": [],
   "source": [
    "train_name_to_df = {}\n",
    "test_name_to_df = {}\n",
    "for feature_name in features:\n",
    "    train_name_to_df[feature_name] = train_x[associated_column_names[feature_name]]\n",
    "    test_name_to_df[feature_name] = test_x[associated_column_names[feature_name]]    "
   ]
  },
  {
   "cell_type": "code",
   "execution_count": 5,
   "metadata": {},
   "outputs": [
    {
     "name": "stdout",
     "output_type": "stream",
     "text": [
      "L1: ('category',) \t 14.771818108410137\n",
      "L2: ('title',) \t 31.428897498394907\n",
      "R2: ('title',) \t 0.1503417186728946\n"
     ]
    }
   ],
   "source": [
    "best_l1 = math.inf\n",
    "best_l1_features = None\n",
    "best_l2 = math.inf\n",
    "best_l2_features = None\n",
    "best_r2 = -1\n",
    "best_r2_features = None\n",
    "\n",
    "for features in itertools.combinations(features, 1):\n",
    "    _train_x = train_name_to_df[features[0]]\n",
    "#     _train_x = train_name_to_df[features[0]].merge(train_name_to_df[features[1]], left_index=True, right_index=True)\n",
    "#     _train_x = _train_x.merge(train_name_to_df[features[2]], left_index=True, right_index=True)\n",
    "    \n",
    "    _test_x = test_name_to_df[features[0]]\n",
    "#     _test_x = test_name_to_df[features[0]].merge(test_name_to_df[features[1]], left_index=True, right_index=True)\n",
    "#     _test_x = _test_x.merge(test_name_to_df[features[2]], left_index=True, right_index=True)\n",
    "    \n",
    "    lr = LinearRegression()\n",
    "    lr.fit(_train_x, train_y)\n",
    "    \n",
    "    y_pred = lr.predict(_test_x)\n",
    "    l1 = mean_absolute_error(test_y, y_pred)\n",
    "    l2 = mean_squared_error(test_y, y_pred)\n",
    "    r2 = r2_score(test_y, y_pred)\n",
    "    \n",
    "    if l1 < best_l1:\n",
    "        best_l1 = l1\n",
    "        best_l1_features = features\n",
    "        \n",
    "    if l2 < best_l2:\n",
    "        best_l2 = l2\n",
    "        best_l2_features = features\n",
    "        \n",
    "    if abs(1 - r2) < abs(1 - best_r2):\n",
    "        best_r2 = r2\n",
    "        best_r2_features = features\n",
    "        \n",
    "print(f'L1: {best_l1_features} \\t {math.log(best_l1)}')\n",
    "print(f'L2: {best_l2_features} \\t {math.log(best_l2)}')\n",
    "print(f'R2: {best_r2_features} \\t {best_r2}')"
   ]
  },
  {
   "cell_type": "code",
   "execution_count": 6,
   "metadata": {},
   "outputs": [
    {
     "name": "stdout",
     "output_type": "stream",
     "text": [
      "L1: ('category',) \t 14.771818108410137\n",
      "L2: ('title',) \t 31.428897498394907\n",
      "R2: ('title',) \t 0.1503417186728946\n"
     ]
    }
   ],
   "source": [
    "print(f'L1: {best_l1_features} \\t {math.log(best_l1)}')\n",
    "print(f'L2: {best_l2_features} \\t {math.log(best_l2)}')\n",
    "print(f'R2: {best_r2_features} \\t {best_r2}')"
   ]
  },
  {
   "cell_type": "code",
   "execution_count": null,
   "metadata": {},
   "outputs": [],
   "source": []
  }
 ],
 "metadata": {
  "kernelspec": {
   "display_name": "Python 3",
   "language": "python",
   "name": "python3"
  },
  "language_info": {
   "codemirror_mode": {
    "name": "ipython",
    "version": 3
   },
   "file_extension": ".py",
   "mimetype": "text/x-python",
   "name": "python",
   "nbconvert_exporter": "python",
   "pygments_lexer": "ipython3",
   "version": "3.7.7"
  }
 },
 "nbformat": 4,
 "nbformat_minor": 4
}
