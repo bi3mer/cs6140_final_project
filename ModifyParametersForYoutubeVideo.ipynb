{
 "cells": [
  {
   "cell_type": "code",
   "execution_count": 1,
   "metadata": {},
   "outputs": [
    {
     "name": "stderr",
     "output_type": "stream",
     "text": [
      "/usr/local/anaconda3/lib/python3.7/site-packages/dask/dataframe/utils.py:14: FutureWarning: pandas.util.testing is deprecated. Use the functions in the public API at pandas.testing instead.\n",
      "  import pandas.util.testing as tm\n"
     ]
    }
   ],
   "source": [
    "%matplotlib inline\n",
    "from gensim.utils import simple_preprocess\n",
    "from gensim.models import Word2Vec\n",
    "from tqdm.notebook import tqdm\n",
    "from xgboost import XGBRegressor\n",
    "import lightgbm as lgbm\n",
    "\n",
    "import matplotlib.pyplot as plt\n",
    "import pandas as pd\n",
    "import numpy as np\n",
    "\n",
    "import pickle\n",
    "import os"
   ]
  },
  {
   "cell_type": "code",
   "execution_count": 2,
   "metadata": {},
   "outputs": [],
   "source": [
    "xgb_all = pickle.load(open(os.path.join('mdl', 'xgb_all.pkl'), 'rb'))\n",
    "w2v_model = Word2Vec.load(os.path.join('mdl', 'word2vec.model'))"
   ]
  },
  {
   "cell_type": "code",
   "execution_count": 3,
   "metadata": {},
   "outputs": [],
   "source": [
    "def get_wv_vector(string):\n",
    "    vec =  [word for word in simple_preprocess(string) if word in w2v_model.wv.vocab]\n",
    "    return np.mean(w2v_model.wv[vec], axis=0)"
   ]
  },
  {
   "cell_type": "markdown",
   "metadata": {},
   "source": [
    "### Original"
   ]
  },
  {
   "cell_type": "code",
   "execution_count": 13,
   "metadata": {},
   "outputs": [],
   "source": [
    "original_title = get_wv_vector('Puppy Meets Their Reflection')\n",
    "original_description = get_wv_vector('My puppy, Maggie, a bernedoodle meets her reflection for the first time!')\n",
    "original_tags = get_wv_vector('puppy, dog, bernedoodle, reflection, funny, cute')"
   ]
  },
  {
   "cell_type": "code",
   "execution_count": 5,
   "metadata": {},
   "outputs": [],
   "source": [
    "img_feature = [0,0,0,0,0] # img\n",
    "cat_feature = [0,0,0,1,0,0,0,0,0,0,0,0,0,0,0,0]\n",
    "day_feature = [0,0,0,0,1,0,0]\n",
    "wrd_feature = np.mean([original_title, original_description, original_tags], axis=0)\n",
    "feature = img_feature + cat_feature + day_feature + list(wrd_feature)"
   ]
  },
  {
   "cell_type": "code",
   "execution_count": 6,
   "metadata": {},
   "outputs": [
    {
     "name": "stdout",
     "output_type": "stream",
     "text": [
      "Expected View Count: 1758881.5\n"
     ]
    }
   ],
   "source": [
    "original_prediction = xgb_all.predict(np.array([feature]), validate_features=False)[0]\n",
    "print(f'Expected View Count: {original_prediction}')"
   ]
  },
  {
   "cell_type": "markdown",
   "metadata": {},
   "source": [
    "### Modified"
   ]
  },
  {
   "cell_type": "markdown",
   "metadata": {},
   "source": [
    "**Day**"
   ]
  },
  {
   "cell_type": "code",
   "execution_count": 7,
   "metadata": {},
   "outputs": [
    {
     "name": "stdout",
     "output_type": "stream",
     "text": [
      "Expected View Count 0: 1966316.0\n",
      "Expected View Count 1: 1945980.875\n",
      "Expected View Count 2: 1964039.75\n",
      "Expected View Count 3: 1889141.625\n",
      "Expected View Count 4: 1758881.5\n",
      "Expected View Count 5: 1947795.875\n",
      "Expected View Count 6: 1966316.0\n"
     ]
    }
   ],
   "source": [
    "for i in range(len(day_feature)):\n",
    "    img_feature = [0,0,0,0,0] # img\n",
    "    cat_feature = [0,0,0,1,0,0,0,0,0,0,0,0,0,0,0,0]\n",
    "    day_feature = [0,0,0,0,0,0,0]\n",
    "    day_feature[i] = 1\n",
    "    feature = img_feature + cat_feature + day_feature + list(wrd_feature)\n",
    "    original_prediction = xgb_all.predict(np.array([feature]), validate_features=False)[0]\n",
    "    print(f'Expected View Count {i}: {original_prediction}')"
   ]
  },
  {
   "cell_type": "markdown",
   "metadata": {},
   "source": [
    "The best day is Friday.\n",
    "\n",
    "**Category**"
   ]
  },
  {
   "cell_type": "code",
   "execution_count": 8,
   "metadata": {},
   "outputs": [
    {
     "name": "stdout",
     "output_type": "stream",
     "text": [
      "Expected View Count 0:\t2137770.25\n",
      "Expected View Count 1:\t2041368.875\n",
      "Expected View Count 2:\t2660398.25\n",
      "Expected View Count 3:\t1966316.0\n",
      "Expected View Count 4:\t2041368.875\n",
      "Expected View Count 5:\t1922074.125\n",
      "Expected View Count 6:\t2052423.875\n",
      "Expected View Count 7:\t2063359.375\n",
      "Expected View Count 8:\t2098657.0\n",
      "Expected View Count 9:\t4485541.0\n",
      "Expected View Count 10:\t2041368.875\n",
      "Expected View Count 11:\t2041368.875\n",
      "Expected View Count 12:\t2041368.875\n",
      "Expected View Count 13:\t1937861.75\n",
      "Expected View Count 14:\t2041368.875\n",
      "Expected View Count 15:\t2041368.875\n"
     ]
    }
   ],
   "source": [
    "for i in range(len(cat_feature)):\n",
    "    img_feature = [0,0,0,0,0] # img\n",
    "    cat_feature = [0,0,0,0,0,0,0,0,0,0,0,0,0,0,0,0]\n",
    "    cat_feature[i] = 1\n",
    "    day_feature = [1,0,0,0,0,0,0]\n",
    "    feature = img_feature + cat_feature + day_feature + list(wrd_feature)\n",
    "    original_prediction = xgb_all.predict(np.array([feature]), validate_features=False)[0]\n",
    "    print(f'Expected View Count {i}:\\t{original_prediction}')"
   ]
  },
  {
   "cell_type": "markdown",
   "metadata": {},
   "source": [
    "The best cateogry is Entertainment"
   ]
  },
  {
   "cell_type": "markdown",
   "metadata": {},
   "source": [
    "**Tittle**"
   ]
  },
  {
   "cell_type": "code",
   "execution_count": 15,
   "metadata": {},
   "outputs": [
    {
     "name": "stdout",
     "output_type": "stream",
     "text": [
      "Expected View Count 15:\t1035820.9375\n"
     ]
    }
   ],
   "source": [
    "original_title = get_wv_vector('Puppy Barks at Their Reflection')\n",
    "original_description = get_wv_vector('My puppy, Maggie, a bernedoodle meets her reflection for the first time!')\n",
    "original_tags = get_wv_vector('puppy, dog, bernedoodle, reflection, funny, cute')\n",
    "wrd_feature = np.mean([original_title, original_description, original_tags], axis=0)\n",
    "\n",
    "img_feature = [0,0,0,0,0] # img\n",
    "cat_feature = [0,0,0,0,0,0,0,0,0,0,0,0,0,0,0,0]\n",
    "cat_feature[9] = 1\n",
    "day_feature = [1,0,0,0,0,0,0]\n",
    "feature = img_feature + cat_feature + day_feature + list(wrd_feature)\n",
    "\n",
    "original_prediction = xgb_all.predict(np.array([feature]), validate_features=False)[0]\n",
    "print(f'Expected View Count {i}:\\t{original_prediction}')"
   ]
  },
  {
   "cell_type": "code",
   "execution_count": 10,
   "metadata": {},
   "outputs": [
    {
     "name": "stdout",
     "output_type": "stream",
     "text": [
      "Expected View Count 15:\t1493918.5\n"
     ]
    }
   ],
   "source": [
    "original_title = get_wv_vector('Puppy Barks Loves Their Reflection')\n",
    "original_description = get_wv_vector('My puppy, Maggie, a bernedoodle meets her reflection for the first time!')\n",
    "original_tags = get_wv_vector('puppy, dog, bernedoodle, reflection, funny, cute')\n",
    "wrd_feature = np.mean([original_title, original_description, original_tags], axis=0)\n",
    "feature = img_feature + cat_feature + day_feature + list(wrd_feature)\n",
    "\n",
    "original_prediction = xgb_all.predict(np.array([feature]), validate_features=False)[0]\n",
    "print(f'Expected View Count {i}:\\t{original_prediction}')"
   ]
  },
  {
   "cell_type": "code",
   "execution_count": 11,
   "metadata": {},
   "outputs": [
    {
     "name": "stdout",
     "output_type": "stream",
     "text": [
      "Expected View Count 15:\t1759097.25\n"
     ]
    }
   ],
   "source": [
    "original_title = get_wv_vector('Puppy Barks Scared of Their Reflection')\n",
    "original_description = get_wv_vector('My puppy, Maggie, a bernedoodle meets her reflection for the first time!')\n",
    "original_tags = get_wv_vector('puppy, dog, bernedoodle, reflection, funny, cute')\n",
    "wrd_feature = np.mean([original_title, original_description, original_tags], axis=0)\n",
    "feature = img_feature + cat_feature + day_feature + list(wrd_feature)\n",
    "\n",
    "original_prediction = xgb_all.predict(np.array([feature]), validate_features=False)[0]\n",
    "print(f'Expected View Count {i}:\\t{original_prediction}')"
   ]
  },
  {
   "cell_type": "code",
   "execution_count": 12,
   "metadata": {},
   "outputs": [
    {
     "name": "stdout",
     "output_type": "stream",
     "text": [
      "Expected View Count 15:\t2311209.25\n"
     ]
    }
   ],
   "source": [
    "original_title = get_wv_vector('Puppy Barks at Themself')\n",
    "original_description = get_wv_vector('My puppy, Maggie, a bernedoodle meets her reflection for the first time!')\n",
    "original_tags = get_wv_vector('puppy, dog, bernedoodle, reflection, funny, cute')\n",
    "wrd_feature = np.mean([original_title, original_description, original_tags], axis=0)\n",
    "feature = img_feature + cat_feature + day_feature + list(wrd_feature)\n",
    "\n",
    "original_prediction = xgb_all.predict(np.array([feature]), validate_features=False)[0]\n",
    "print(f'Expected View Count {i}:\\t{original_prediction}')"
   ]
  },
  {
   "cell_type": "markdown",
   "metadata": {},
   "source": [
    "**Description**"
   ]
  },
  {
   "cell_type": "code",
   "execution_count": 13,
   "metadata": {},
   "outputs": [
    {
     "name": "stdout",
     "output_type": "stream",
     "text": [
      "Expected View Count 15:\t817835.125\n"
     ]
    }
   ],
   "source": [
    "original_title = get_wv_vector('Puppy Barks at Themself')\n",
    "original_description = get_wv_vector('My puppy, Maggie, a bernedoodle meets her reflection and gets scared!')\n",
    "original_tags = get_wv_vector('puppy, dog, bernedoodle, reflection, funny, cute')\n",
    "wrd_feature = np.mean([original_title, original_description, original_tags], axis=0)\n",
    "feature = img_feature + cat_feature + day_feature + list(wrd_feature)\n",
    "\n",
    "original_prediction = xgb_all.predict(np.array([feature]), validate_features=False)[0]\n",
    "print(f'Expected View Count {i}:\\t{original_prediction}')"
   ]
  },
  {
   "cell_type": "code",
   "execution_count": 14,
   "metadata": {},
   "outputs": [
    {
     "name": "stdout",
     "output_type": "stream",
     "text": [
      "Expected View Count 15:\t516481.4375\n"
     ]
    }
   ],
   "source": [
    "original_title = get_wv_vector('Puppy Barks at Themself')\n",
    "original_description = get_wv_vector('Maggie, a puppy bernedoodle, sees her reflection for the first time. She barks and has so much fun')\n",
    "original_tags = get_wv_vector('puppy, dog, bernedoodle, reflection, funny, cute')\n",
    "wrd_feature = np.mean([original_title, original_description, original_tags], axis=0)\n",
    "feature = img_feature + cat_feature + day_feature + list(wrd_feature)\n",
    "\n",
    "original_prediction = xgb_all.predict(np.array([feature]), validate_features=False)[0]\n",
    "print(f'Expected View Count {i}:\\t{original_prediction}')"
   ]
  },
  {
   "cell_type": "code",
   "execution_count": 15,
   "metadata": {},
   "outputs": [
    {
     "name": "stdout",
     "output_type": "stream",
     "text": [
      "Expected View Count 15:\t2263795.25\n"
     ]
    }
   ],
   "source": [
    "original_title = get_wv_vector('Puppy Barks at Themself')\n",
    "original_description = get_wv_vector('Crazy puppy barks at her reflection. Tail wagging, she\\'s having so much!')\n",
    "original_tags = get_wv_vector('puppy, dog, bernedoodle, reflection, funny, cute')\n",
    "wrd_feature = np.mean([original_title, original_description, original_tags], axis=0)\n",
    "feature = img_feature + cat_feature + day_feature + list(wrd_feature)\n",
    "\n",
    "original_prediction = xgb_all.predict(np.array([feature]), validate_features=False)[0]\n",
    "print(f'Expected View Count {i}:\\t{original_prediction}')"
   ]
  },
  {
   "cell_type": "code",
   "execution_count": 16,
   "metadata": {},
   "outputs": [
    {
     "name": "stdout",
     "output_type": "stream",
     "text": [
      "Expected View Count 15:\t2871745.25\n"
     ]
    }
   ],
   "source": [
    "original_title = get_wv_vector('Puppy Barks at Themself')\n",
    "original_description = get_wv_vector('My puppy has so much fun as she barks at her reflection.')\n",
    "original_tags = get_wv_vector('puppy, dog, bernedoodle, reflection, funny, cute')\n",
    "wrd_feature = np.mean([original_title, original_description, original_tags], axis=0)\n",
    "feature = img_feature + cat_feature + day_feature + list(wrd_feature)\n",
    "\n",
    "original_prediction = xgb_all.predict(np.array([feature]), validate_features=False)[0]\n",
    "print(f'Expected View Count {i}:\\t{original_prediction}')"
   ]
  },
  {
   "cell_type": "markdown",
   "metadata": {},
   "source": [
    "**Tags**"
   ]
  },
  {
   "cell_type": "code",
   "execution_count": 17,
   "metadata": {},
   "outputs": [
    {
     "name": "stdout",
     "output_type": "stream",
     "text": [
      "Expected View Count 15:\t2897612.5\n"
     ]
    }
   ],
   "source": [
    "original_title = get_wv_vector('Puppy Barks at Themself')\n",
    "original_description = get_wv_vector('My puppy has so much fun as she barks at her reflection.')\n",
    "original_tags = get_wv_vector('puppy, dog, bernedoodle, reflection, funny, cute, bernese, tail')\n",
    "wrd_feature = np.mean([original_title, original_description, original_tags], axis=0)\n",
    "feature = img_feature + cat_feature + day_feature + list(wrd_feature)\n",
    "\n",
    "original_prediction = xgb_all.predict(np.array([feature]), validate_features=False)[0]\n",
    "print(f'Expected View Count {i}:\\t{original_prediction}')"
   ]
  },
  {
   "cell_type": "code",
   "execution_count": 18,
   "metadata": {},
   "outputs": [
    {
     "name": "stdout",
     "output_type": "stream",
     "text": [
      "Expected View Count 15:\t2104635.75\n"
     ]
    }
   ],
   "source": [
    "original_title = get_wv_vector('Puppy Barks at Themself')\n",
    "original_description = get_wv_vector('My puppy has so much fun as she barks at her reflection.')\n",
    "original_tags = get_wv_vector('puppy, dog, bernedoodle, reflection, funny, cute, bernese, tail wag, joy')\n",
    "wrd_feature = np.mean([original_title, original_description, original_tags], axis=0)\n",
    "feature = img_feature + cat_feature + day_feature + list(wrd_feature)\n",
    "\n",
    "original_prediction = xgb_all.predict(np.array([feature]), validate_features=False)[0]\n",
    "print(f'Expected View Count {i}:\\t{original_prediction}')"
   ]
  },
  {
   "cell_type": "code",
   "execution_count": 23,
   "metadata": {},
   "outputs": [
    {
     "name": "stdout",
     "output_type": "stream",
     "text": [
      "Expected View Count 15:\t2980837.25\n"
     ]
    }
   ],
   "source": [
    "original_title = get_wv_vector('Puppy Barks at Themself')\n",
    "original_description = get_wv_vector('My puppy has so much fun as she barks at her reflection.')\n",
    "original_tags = get_wv_vector('puppy, dog, bernedoodle, reflection, cute, bernese, tail wag, joy')\n",
    "wrd_feature = np.mean([original_title, original_description, original_tags], axis=0)\n",
    "feature = img_feature + cat_feature + day_feature + list(wrd_feature)\n",
    "\n",
    "original_prediction = xgb_all.predict(np.array([feature]), validate_features=False)[0]\n",
    "print(f'Expected View Count {i}:\\t{original_prediction}')"
   ]
  },
  {
   "cell_type": "markdown",
   "metadata": {},
   "source": [
    "### using best title"
   ]
  },
  {
   "cell_type": "code",
   "execution_count": 16,
   "metadata": {},
   "outputs": [
    {
     "name": "stdout",
     "output_type": "stream",
     "text": [
      "Expected View Count 15:\t6718124.5\n"
     ]
    }
   ],
   "source": [
    "original_title = get_wv_vector('Puppy Barks at Their Reflection')\n",
    "original_description = get_wv_vector('My puppy has so much fun as she barks at her reflection.')\n",
    "original_tags = get_wv_vector('puppy, dog, bernedoodle, reflection, cute, bernese, tail wag, joy')\n",
    "wrd_feature = np.mean([original_title, original_description, original_tags], axis=0)\n",
    "feature = img_feature + cat_feature + day_feature + list(wrd_feature)\n",
    "\n",
    "original_prediction = xgb_all.predict(np.array([feature]), validate_features=False)[0]\n",
    "print(f'Expected View Count {i}:\\t{original_prediction}')"
   ]
  },
  {
   "cell_type": "code",
   "execution_count": null,
   "metadata": {},
   "outputs": [],
   "source": []
  }
 ],
 "metadata": {
  "kernelspec": {
   "display_name": "Python 3",
   "language": "python",
   "name": "python3"
  },
  "language_info": {
   "codemirror_mode": {
    "name": "ipython",
    "version": 3
   },
   "file_extension": ".py",
   "mimetype": "text/x-python",
   "name": "python",
   "nbconvert_exporter": "python",
   "pygments_lexer": "ipython3",
   "version": "3.7.7"
  }
 },
 "nbformat": 4,
 "nbformat_minor": 4
}
