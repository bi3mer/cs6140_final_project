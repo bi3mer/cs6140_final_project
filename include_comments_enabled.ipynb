{
 "cells": [
  {
   "cell_type": "code",
   "execution_count": 1,
   "metadata": {},
   "outputs": [
    {
     "name": "stderr",
     "output_type": "stream",
     "text": [
      "/usr/local/anaconda3/lib/python3.7/site-packages/dask/dataframe/utils.py:14: FutureWarning: pandas.util.testing is deprecated. Use the functions in the public API at pandas.testing instead.\n",
      "  import pandas.util.testing as tm\n",
      "Using TensorFlow backend.\n",
      "/usr/local/anaconda3/lib/python3.7/site-packages/tensorflow/python/framework/dtypes.py:526: FutureWarning: Passing (type, 1) or '1type' as a synonym of type is deprecated; in a future version of numpy, it will be understood as (type, (1,)) / '(1,)type'.\n",
      "  _np_qint8 = np.dtype([(\"qint8\", np.int8, 1)])\n",
      "/usr/local/anaconda3/lib/python3.7/site-packages/tensorflow/python/framework/dtypes.py:527: FutureWarning: Passing (type, 1) or '1type' as a synonym of type is deprecated; in a future version of numpy, it will be understood as (type, (1,)) / '(1,)type'.\n",
      "  _np_quint8 = np.dtype([(\"quint8\", np.uint8, 1)])\n",
      "/usr/local/anaconda3/lib/python3.7/site-packages/tensorflow/python/framework/dtypes.py:528: FutureWarning: Passing (type, 1) or '1type' as a synonym of type is deprecated; in a future version of numpy, it will be understood as (type, (1,)) / '(1,)type'.\n",
      "  _np_qint16 = np.dtype([(\"qint16\", np.int16, 1)])\n",
      "/usr/local/anaconda3/lib/python3.7/site-packages/tensorflow/python/framework/dtypes.py:529: FutureWarning: Passing (type, 1) or '1type' as a synonym of type is deprecated; in a future version of numpy, it will be understood as (type, (1,)) / '(1,)type'.\n",
      "  _np_quint16 = np.dtype([(\"quint16\", np.uint16, 1)])\n",
      "/usr/local/anaconda3/lib/python3.7/site-packages/tensorflow/python/framework/dtypes.py:530: FutureWarning: Passing (type, 1) or '1type' as a synonym of type is deprecated; in a future version of numpy, it will be understood as (type, (1,)) / '(1,)type'.\n",
      "  _np_qint32 = np.dtype([(\"qint32\", np.int32, 1)])\n",
      "/usr/local/anaconda3/lib/python3.7/site-packages/tensorflow/python/framework/dtypes.py:535: FutureWarning: Passing (type, 1) or '1type' as a synonym of type is deprecated; in a future version of numpy, it will be understood as (type, (1,)) / '(1,)type'.\n",
      "  np_resource = np.dtype([(\"resource\", np.ubyte, 1)])\n"
     ]
    }
   ],
   "source": [
    "%matplotlib inline\n",
    "from gensim.utils import simple_preprocess\n",
    "from gensim.models import Word2Vec\n",
    "from tqdm.notebook import tqdm\n",
    "\n",
    "from sklearn.model_selection import train_test_split\n",
    "from sklearn import linear_model\n",
    "\n",
    "from sklearn.ensemble import RandomForestRegressor\n",
    "from xgboost import XGBRegressor\n",
    "from sklearn.linear_model import LinearRegression\n",
    "from sklearn.svm import SVR, LinearSVR\n",
    "from sklearn.metrics import r2_score, mean_squared_error, mean_absolute_error\n",
    "import lightgbm as lgbm\n",
    "\n",
    "from keras.models import Sequential\n",
    "from keras.layers import Dense\n",
    "\n",
    "import matplotlib.pyplot as plt\n",
    "import pandas as pd\n",
    "import numpy as np\n",
    "\n",
    "import datetime \n",
    "import os"
   ]
  },
  {
   "cell_type": "code",
   "execution_count": 2,
   "metadata": {},
   "outputs": [],
   "source": [
    "vids = pd.read_csv('vids.csv')\n",
    "vids = vids.dropna()\n",
    "X = vids[vids.category_id.notna()]\n",
    "X = X.drop(([\n",
    "    'video_id', 'channel_title', 'trending_date', 'comment_count', \n",
    "    'likes', 'dislikes', 'video_error_or_removed', 'thumbnail_link',]), 1)\n",
    "Y = vids.views"
   ]
  },
  {
   "cell_type": "code",
   "execution_count": 3,
   "metadata": {},
   "outputs": [],
   "source": [
    "encoded_cateogries = pd.get_dummies(X.category_id, prefix=\"category_id\")\n",
    "X = X.drop(['category_id'], 1)\n",
    "for column in encoded_cateogries.columns:\n",
    "    X[column] = encoded_cateogries[column]"
   ]
  },
  {
   "cell_type": "code",
   "execution_count": 4,
   "metadata": {},
   "outputs": [],
   "source": [
    "def publish_time_to_day(day_string):\n",
    "    try:\n",
    "        split = day_string.split('T')[0].split('-')\n",
    "        return datetime.datetime(int(split[0]), int(split[1]), int(split[2])).strftime('%A')\n",
    "    except:\n",
    "        return 'Monday'\n",
    "\n",
    "X['publish_day'] = X.publish_time.apply(publish_time_to_day)\n",
    "encoded_cateogries = pd.get_dummies(X.publish_day, prefix=\"publish_day\")\n",
    "for column in encoded_cateogries.columns:\n",
    "    X[column] = encoded_cateogries[column]\n",
    "X = X.drop(['publish_time', 'publish_day'], 1)"
   ]
  },
  {
   "cell_type": "code",
   "execution_count": 5,
   "metadata": {},
   "outputs": [
    {
     "data": {
      "application/vnd.jupyter.widget-view+json": {
       "model_id": "acaa54c3201e4cb8b9ba89a7ead0686a",
       "version_major": 2,
       "version_minor": 0
      },
      "text/plain": [
       "HBox(children=(FloatProgress(value=0.0, max=40291.0), HTML(value='')))"
      ]
     },
     "metadata": {},
     "output_type": "display_data"
    },
    {
     "name": "stdout",
     "output_type": "stream",
     "text": [
      "\n"
     ]
    }
   ],
   "source": [
    "processed_titles = []\n",
    "processed_descriptions = []\n",
    "processed_tags = []\n",
    "\n",
    "for i in tqdm(range(len(X))):\n",
    "    try:\n",
    "        processed_titles.append(simple_preprocess(X.title.iloc[i]))\n",
    "    except:\n",
    "        processed_titles.append([\"\"])\n",
    "\n",
    "    try:\n",
    "        processed_descriptions.append(simple_preprocess(X.description.iloc[i]))\n",
    "    except:\n",
    "        processed_descriptions.append([\"\"])\n",
    "\n",
    "    try:\n",
    "        processed_tags.append(simple_preprocess(X.tags.iloc[i]))\n",
    "    except:\n",
    "        processed_tags.append([\"\"])"
   ]
  },
  {
   "cell_type": "code",
   "execution_count": 6,
   "metadata": {},
   "outputs": [
    {
     "data": {
      "application/vnd.jupyter.widget-view+json": {
       "model_id": "e0b137fb26684b54ab0e855c4bbee3c6",
       "version_major": 2,
       "version_minor": 0
      },
      "text/plain": [
       "HBox(children=(FloatProgress(value=0.0, max=40291.0), HTML(value='')))"
      ]
     },
     "metadata": {},
     "output_type": "display_data"
    },
    {
     "name": "stdout",
     "output_type": "stream",
     "text": [
      "\n"
     ]
    }
   ],
   "source": [
    "w2v_model = Word2Vec.load(os.path.join('mdl', 'word2vec.model'))\n",
    "all_one_feature = []\n",
    "dscription_feature = []\n",
    "title_feature = []\n",
    "tags_feature = []\n",
    "\n",
    "for i in tqdm(range(len(X))):\n",
    "    filtered = [word for word in processed_titles[i] if word in w2v_model.wv.vocab]\n",
    "    if len(filtered) > 0:\n",
    "        title_vec = np.mean(w2v_model.wv[filtered], axis=0)\n",
    "    else:\n",
    "        title_vec = np.zeros(w2v_model.vector_size)\n",
    "        \n",
    "    filtered = [word for word in processed_descriptions[i] if word in w2v_model.wv.vocab]\n",
    "    if len(filtered) > 0:\n",
    "        description_vec = np.mean(w2v_model.wv[filtered], axis=0)\n",
    "    else:\n",
    "        description_vec = np.zeros(w2v_model.vector_size)\n",
    "        \n",
    "    filtered = [word for word in processed_tags[i] if word in w2v_model.wv.vocab]\n",
    "    if len(filtered) > 0:\n",
    "        tags_vec = np.mean(w2v_model.wv[filtered], axis=0)\n",
    "    else:\n",
    "        tags_vec = np.zeros(w2v_model.vector_size)\n",
    "    \n",
    "    all_one_feature.append(np.mean([title_vec, description_vec, tags_vec], axis=0))\n",
    "    dscription_feature.append(description_vec)\n",
    "    title_feature.append(title_vec)\n",
    "    tags_feature.append(tags_vec)\n",
    "\n",
    "all_one_feature = np.array(all_one_feature)\n",
    "dscription_feature = np.array(dscription_feature)\n",
    "title_feature = np.array(title_feature)\n",
    "tags_feature = np.array(tags_feature)"
   ]
  },
  {
   "cell_type": "code",
   "execution_count": 7,
   "metadata": {},
   "outputs": [
    {
     "data": {
      "application/vnd.jupyter.widget-view+json": {
       "model_id": "ae7232c063554cef8c0dc6e7a843f11f",
       "version_major": 2,
       "version_minor": 0
      },
      "text/plain": [
       "HBox(children=(FloatProgress(value=0.0), HTML(value='')))"
      ]
     },
     "metadata": {},
     "output_type": "display_data"
    },
    {
     "name": "stdout",
     "output_type": "stream",
     "text": [
      "\n"
     ]
    }
   ],
   "source": [
    "X = X.drop(['title', 'tags', 'description'], 1)\n",
    "\n",
    "for i in tqdm(range(w2v_model.vector_size)):\n",
    "    X[f'word_encodings{i}'] = all_one_feature[:,i]\n",
    "    X[f'description{i}'] = dscription_feature[:, i]\n",
    "    X[f'title{i}'] = title_feature[:,i]\n",
    "    X[f'tags{i}'] = tags_feature[:,i]"
   ]
  },
  {
   "cell_type": "code",
   "execution_count": 9,
   "metadata": {},
   "outputs": [],
   "source": [
    "X[\"comments_disabled\"] = X[\"comments_disabled\"].astype(int)\n",
    "X[\"ratings_disabled\"] = X[\"ratings_disabled\"].astype(int)"
   ]
  },
  {
   "cell_type": "code",
   "execution_count": 10,
   "metadata": {},
   "outputs": [],
   "source": [
    "X.dropna()\n",
    "train, test = train_test_split(X, test_size=0.2)\n",
    "\n",
    "train_y = train.views\n",
    "train_x = train.drop('views', 1)\n",
    "test_y = test.views\n",
    "test_x = test.drop('views', 1)"
   ]
  },
  {
   "cell_type": "code",
   "execution_count": 11,
   "metadata": {},
   "outputs": [],
   "source": [
    "to_drop = np.array([[f'title{i}', f'tags{i}', f'description{i}'] for i in range(w2v_model.vector_size)]).flatten()\n",
    "train_x_all = train_x.drop(to_drop,1)\n",
    "test_x_all = test_x.drop(to_drop,1)\n",
    "\n",
    "to_drop = [f'word_encodings{i}' for i in range(w2v_model.vector_size)]\n",
    "train_x_sep = train_x.drop(to_drop,1)\n",
    "test_x_sep = test_x.drop(to_drop,1)"
   ]
  },
  {
   "cell_type": "code",
   "execution_count": 13,
   "metadata": {},
   "outputs": [],
   "source": [
    "lr_all = LinearRegression()\n",
    "lr_sep = LinearRegression()\n",
    "\n",
    "svr_all = LinearSVR(C=1.0, epsilon=0.2)\n",
    "svr_sep = LinearSVR(C=1.0, epsilon=0.2)\n",
    "\n",
    "rfr_all = RandomForestRegressor(n_estimators=20, max_depth=3)\n",
    "rfr_sep = RandomForestRegressor(n_estimators=20, max_depth=3)\n",
    "\n",
    "xgb_all = XGBRegressor(n_estimators=300)\n",
    "xgb_sep = XGBRegressor(n_estimators=300)\n",
    "\n",
    "gbm_all = lgbm.LGBMRegressor()\n",
    "gbm_sep = lgbm.LGBMRegressor()"
   ]
  },
  {
   "cell_type": "code",
   "execution_count": 14,
   "metadata": {},
   "outputs": [
    {
     "name": "stdout",
     "output_type": "stream",
     "text": [
      "training lr_all\n",
      "training lr_sep\n",
      "training svr_all\n",
      "training svr_sep\n",
      "training rfr_all\n",
      "training rfr_sep\n",
      "training xgb_all\n",
      "training xgb_sep\n",
      "training lgbm_all\n",
      "training lgbm_sep\n"
     ]
    },
    {
     "data": {
      "text/plain": [
       "LGBMRegressor()"
      ]
     },
     "execution_count": 14,
     "metadata": {},
     "output_type": "execute_result"
    }
   ],
   "source": [
    "print('training lr_all')\n",
    "lr_all.fit(train_x_all, train_y)\n",
    "\n",
    "print('training lr_sep')\n",
    "lr_sep.fit(train_x_sep, train_y)\n",
    "\n",
    "print('training svr_all')\n",
    "svr_all.fit(train_x_all, train_y)\n",
    "\n",
    "print('training svr_sep')\n",
    "svr_sep.fit(train_x_sep, train_y)\n",
    "\n",
    "print('training rfr_all')\n",
    "rfr_all.fit(train_x_all, train_y)\n",
    "\n",
    "print('training rfr_sep')\n",
    "rfr_sep.fit(train_x_sep, train_y)\n",
    "\n",
    "print('training xgb_all')\n",
    "xgb_all.fit(train_x_all, train_y)\n",
    "\n",
    "print('training xgb_sep')\n",
    "xgb_sep.fit(train_x_sep, train_y)\n",
    "\n",
    "print('training lgbm_all')\n",
    "gbm_all.fit(train_x_all, train_y)\n",
    "\n",
    "print('training lgbm_sep')\n",
    "gbm_sep.fit(train_x_sep, train_y)"
   ]
  },
  {
   "cell_type": "markdown",
   "metadata": {},
   "source": [
    "## Analysis"
   ]
  },
  {
   "cell_type": "code",
   "execution_count": 15,
   "metadata": {},
   "outputs": [],
   "source": [
    "models_all = [lr_all,svr_all,rfr_all,xgb_all,gbm_all]\n",
    "models_sep = [lr_sep,svr_sep,rfr_sep,xgb_sep,gbm_sep]\n",
    "\n",
    "pred_all = [mdl_all.predict(test_x_all) for mdl_all in models_all]\n",
    "pred_sep = [mdl_sep.predict(test_x_sep) for mdl_sep in models_sep]\n",
    "predictions = pred_all + pred_sep\n",
    "model_names = [\n",
    "    'lr_all','svr_all','rfr_all','xgb_all','gbm_all',\n",
    "    'lr_sep','svr_sep','rfr_sep','xgb_sep','gbm_sep',]"
   ]
  },
  {
   "cell_type": "code",
   "execution_count": 16,
   "metadata": {},
   "outputs": [],
   "source": [
    "df = pd.DataFrame()\n",
    "df['model_name'] = model_names\n",
    "df['l1'] = [mean_absolute_error(test_y, pred_y) for pred_y in predictions]\n",
    "df['l2'] = [mean_squared_error(test_y, pred_y) for pred_y in predictions]\n",
    "df['r2'] = [r2_score(test_y, pred_y) for pred_y in predictions]\n",
    "df['rmse'] = [np.sqrt(res) for res in df.l2]"
   ]
  },
  {
   "cell_type": "code",
   "execution_count": 18,
   "metadata": {},
   "outputs": [
    {
     "data": {
      "text/plain": [
       "Text(0.5, 1.0, 'L1')"
      ]
     },
     "execution_count": 18,
     "metadata": {},
     "output_type": "execute_result"
    },
    {
     "data": {
      "image/png": "[encoded data removed]",
      "text/plain": [
       "<Figure size 432x288 with 1 Axes>"
      ]
     },
     "metadata": {
      "needs_background": "light"
     },
     "output_type": "display_data"
    }
   ],
   "source": [
    "df.plot.bar(x='model_name', y='l1')\n",
    "plt.title('L1')"
   ]
  },
  {
   "cell_type": "code",
   "execution_count": 19,
   "metadata": {},
   "outputs": [
    {
     "data": {
      "text/plain": [
       "Text(0.5, 1.0, 'L2')"
      ]
     },
     "execution_count": 19,
     "metadata": {},
     "output_type": "execute_result"
    },
    {
     "data": {
      "image/png": "[encoded data removed]",
      "text/plain": [
       "<Figure size 432x288 with 1 Axes>"
      ]
     },
     "metadata": {
      "needs_background": "light"
     },
     "output_type": "display_data"
    }
   ],
   "source": [
    "df.plot.bar(x='model_name', y='l2')\n",
    "plt.title('L2')"
   ]
  },
  {
   "cell_type": "code",
   "execution_count": 20,
   "metadata": {},
   "outputs": [
    {
     "data": {
      "text/plain": [
       "Text(0.5, 1.0, 'R2')"
      ]
     },
     "execution_count": 20,
     "metadata": {},
     "output_type": "execute_result"
    },
    {
     "data": {
      "image/png": "[encoded data removed]",
      "text/plain": [
       "<Figure size 432x288 with 1 Axes>"
      ]
     },
     "metadata": {
      "needs_background": "light"
     },
     "output_type": "display_data"
    }
   ],
   "source": [
    "df.plot.bar(x='model_name', y='r2')\n",
    "plt.title('R2')"
   ]
  },
  {
   "cell_type": "code",
   "execution_count": 21,
   "metadata": {},
   "outputs": [
    {
     "data": {
      "text/plain": [
       "Text(0.5, 1.0, 'RMSE')"
      ]
     },
     "execution_count": 21,
     "metadata": {},
     "output_type": "execute_result"
    },
    {
     "data": {
      "image/png": "[encoded data removed]",
      "text/plain": [
       "<Figure size 432x288 with 1 Axes>"
      ]
     },
     "metadata": {
      "needs_background": "light"
     },
     "output_type": "display_data"
    }
   ],
   "source": [
    "df.plot.bar(x='model_name', y='rmse')\n",
    "plt.title('RMSE')"
   ]
  },
  {
   "cell_type": "markdown",
   "metadata": {},
   "source": [
    "So we can see that including these definitively does not help the models. Examine the axis of this and compare to model_anaysis.ipynb. We can also check it's weight for the linear regression."
   ]
  }
 ],
 "metadata": {
  "kernelspec": {
   "display_name": "Python 3",
   "language": "python",
   "name": "python3"
  },
  "language_info": {
   "codemirror_mode": {
    "name": "ipython",
    "version": 3
   },
   "file_extension": ".py",
   "mimetype": "text/x-python",
   "name": "python",
   "nbconvert_exporter": "python",
   "pygments_lexer": "ipython3",
   "version": "3.7.7"
  }
 },
 "nbformat": 4,
 "nbformat_minor": 4
}
